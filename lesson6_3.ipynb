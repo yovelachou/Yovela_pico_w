{
 "cells": [
  {
   "cell_type": "code",
   "execution_count": 138,
   "metadata": {},
   "outputs": [
    {
     "name": "stdout",
     "output_type": "stream",
     "text": [
      "=========猜數字遊戲========\n",
      "猜數字範圍:1~180:數字太大了\n",
      "猜數字範圍:1~99:Number must be at maximum 99.\n",
      "猜數字範圍:1~99:數字太大了\n",
      "猜數字範圍:1~49:數字太大了\n",
      "猜數字範圍:1~39:數字太大了\n",
      "猜數字範圍:1~24:數字太大了\n",
      "猜數字範圍:1~19:數字太小了\n",
      "猜數字範圍:9~19:Number must be at minimum 9.\n",
      "猜數字範圍:9~19:數字太小了\n",
      "猜數字範圍:12~19:數字太小了\n",
      "猜數字範圍:13~19:數字太大了\n",
      "猜數字範圍:13~14:Number must be at maximum 14.\n",
      "猜數字範圍:13~14:數字太大了\n",
      "猜數字範圍:13~13:賓果!猜對了，答案是:13\n",
      "您共猜了11次\n"
     ]
    }
   ],
   "source": [
    "import random\n",
    "import pyinputplus as py\n",
    "min = 1\n",
    "max = 180\n",
    "randomNum = random.randint(min,max)\n",
    "count = 0\n",
    "\n",
    "print(\"=========猜數字遊戲========\")\n",
    "\n",
    "while True:\n",
    "    keyin = py.inputInt(f\"猜數字範圍:{min}~{max}:\",min=min ,max=max)\n",
    "    count += 1\n",
    "    if keyin == randomNum :\n",
    "        print(F\"賓果!猜對了，答案是:{randomNum}\")\n",
    "        break\n",
    "    elif keyin > randomNum:\n",
    "        print(\"數字太大了\")\n",
    "        max = keyin - 1\n",
    "    else:\n",
    "        print(\"數字太小了\")\n",
    "        min =keyin +1\n",
    "\n",
    "print(f\"遊戲結束，您共猜了{count}次\")        \n",
    "    \n"
   ]
  }
 ],
 "metadata": {
  "kernelspec": {
   "display_name": "Python 3",
   "language": "python",
   "name": "python3"
  },
  "language_info": {
   "codemirror_mode": {
    "name": "ipython",
    "version": 3
   },
   "file_extension": ".py",
   "mimetype": "text/x-python",
   "name": "python",
   "nbconvert_exporter": "python",
   "pygments_lexer": "ipython3",
   "version": "3.10.13"
  }
 },
 "nbformat": 4,
 "nbformat_minor": 2
}
