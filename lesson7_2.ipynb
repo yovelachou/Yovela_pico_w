{
 "cells": [
  {
   "cell_type": "code",
   "execution_count": 7,
   "metadata": {},
   "outputs": [
    {
     "name": "stdout",
     "output_type": "stream",
     "text": [
      "Hello! Python\n",
      "Hello! Python\n",
      "Hello! Python\n"
     ]
    }
   ],
   "source": [
    "#建立一個function\n",
    "#沒有參數,沒有傳出值的function\n",
    "#沒有參數的function，靈活性最差\n",
    "def sayHello():\n",
    "    print(\"Hello! Python\")\n",
    "\n",
    "sayHello()\n",
    "sayHello()\n",
    "sayHello()"
   ]
  },
  {
   "cell_type": "code",
   "execution_count": 19,
   "metadata": {},
   "outputs": [
    {
     "name": "stdout",
     "output_type": "stream",
     "text": [
      "Hello! 少年:Ms.Yovela!\n"
     ]
    }
   ],
   "source": [
    "#參數的default value,呼叫時可省略\n",
    "#參數的default value,定義時一定要放在最後\n",
    "def sayHello(name,age,is_male=None):\n",
    "    if is_male is None:\n",
    "        prefix = \"\"\n",
    "    elif is_male :\n",
    "        prefix=\"Mr.\"\n",
    "    else :\n",
    "        prefix =\"Ms.\"\n",
    "\n",
    "    if age<18:\n",
    "        alias = \"少年\"\n",
    "    elif age<30:\n",
    "        alias =\"中年\"\n",
    "    elif age <50:\n",
    "        alias = \"壯年\"\n",
    "    else:\n",
    "        alias = \"老年\"\n",
    "\n",
    "    print(f\"Hello! {alias}:{prefix}{name}!\")\n",
    "\n",
    "#引數值的呼叫要依順序\n",
    "sayHello(\"Yovela\",13,False)\n"
   ]
  },
  {
   "cell_type": "code",
   "execution_count": 11,
   "metadata": {},
   "outputs": [
    {
     "name": "stdout",
     "output_type": "stream",
     "text": [
      "Hello! 少年:Yovela!\n",
      "Hello! 中年:Yovela!\n"
     ]
    }
   ],
   "source": [
    "#引數名稱的呼叫，可以不依順序\n",
    "sayHello(name=\"Yovela\",age=13)\n",
    "sayHello(age=25,name=\"Yovela\")"
   ]
  },
  {
   "cell_type": "code",
   "execution_count": 12,
   "metadata": {},
   "outputs": [
    {
     "name": "stdout",
     "output_type": "stream",
     "text": [
      "Hello! 少年:Yovela!\n"
     ]
    }
   ],
   "source": [
    "#混和呼叫\n",
    "#引數值呼叫在前面，引數名稱在後面\n",
    "#使用引數名稱後，後面全部要使用引數名稱的呼叫\n",
    "sayHello(\"Yovela\",age=13)"
   ]
  }
 ],
 "metadata": {
  "kernelspec": {
   "display_name": "Python 3",
   "language": "python",
   "name": "python3"
  },
  "language_info": {
   "codemirror_mode": {
    "name": "ipython",
    "version": 3
   },
   "file_extension": ".py",
   "mimetype": "text/x-python",
   "name": "python",
   "nbconvert_exporter": "python",
   "pygments_lexer": "ipython3",
   "version": "3.10.13"
  }
 },
 "nbformat": 4,
 "nbformat_minor": 2
}
