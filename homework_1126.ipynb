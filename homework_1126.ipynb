{
 "cells": [
  {
   "cell_type": "code",
   "execution_count": 8,
   "metadata": {},
   "outputs": [
    {
     "name": "stdout",
     "output_type": "stream",
     "text": [
      "請輸入學生分數(0-100):50\n",
      "50分:不及格\n"
     ]
    }
   ],
   "source": [
    "import pyinputplus as pyip\n",
    "scores = pyip.inputNum(prompt=\"請輸入學生分數(0-100):\",blank = False,min=0, max=100)\n",
    "print(scores)\n",
    "\n",
    "if scores < 60:\n",
    "    print(f\"{scores}分:不及格\")\n",
    "if 80>scores>=60:\n",
    "     print(f\"{scores}分:及格\")\n",
    "if 100>=scores>=80:\n",
    "     print(f\"{scores}分:優\")"
   ]
  }
 ],
 "metadata": {
  "kernelspec": {
   "display_name": "Python 3",
   "language": "python",
   "name": "python3"
  },
  "language_info": {
   "codemirror_mode": {
    "name": "ipython",
    "version": 3
   },
   "file_extension": ".py",
   "mimetype": "text/x-python",
   "name": "python",
   "nbconvert_exporter": "python",
   "pygments_lexer": "ipython3",
   "version": "3.10.13"
  }
 },
 "nbformat": 4,
 "nbformat_minor": 2
}
