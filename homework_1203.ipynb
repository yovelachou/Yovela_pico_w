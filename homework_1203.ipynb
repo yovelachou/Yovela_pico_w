{
 "cells": [
  {
   "cell_type": "code",
   "execution_count": 8,
   "metadata": {},
   "outputs": [
    {
     "name": "stdout",
     "output_type": "stream",
     "text": [
      "請輸入購買金額:50001\n",
      "打85折後為:42501\n"
     ]
    }
   ],
   "source": [
    "#輸入顧客購買金額，若金額在\n",
    "#100000元打8折.\n",
    "#50000打85折.\n",
    "#30000打9折.\n",
    "#10000打95折.\n",
    "import pyinputplus as pyip\n",
    "amt = pyip.inputInt(prompt=\"請輸入購買金額:\",blank = False,min=1)\n",
    "print(amt)\n",
    "if amt >= 100000:\n",
    "    amt = round(amt * 0.8)\n",
    "    print(f\"打8折後為:{amt}\")\n",
    "elif amt >= 50000:\n",
    "    amt = round(amt * 0.85)\n",
    "    print(f\"打85折後為:{amt}\")\n",
    "elif amt >= 30000:\n",
    "    amt = round(amt * 0.9)\n",
    "    print(f\"打9折後為:{amt}\")\n",
    "elif amt >= 10000:\n",
    "    amt = round(amt * 0.95)\n",
    "    print(f\"打95折後為:{amt}\")\n",
    "else:\n",
    "     amt = amt\n",
    "  "
   ]
  },
  {
   "cell_type": "code",
   "execution_count": 14,
   "metadata": {},
   "outputs": [
    {
     "name": "stdout",
     "output_type": "stream",
     "text": [
      "請輸入收縮壓:100\n",
      "請輸入舒張壓:100\n",
      "收縮壓100,舒張壓100,血壓狀況:高血壓二期\n"
     ]
    }
   ],
   "source": [
    "import pyinputplus as pyip\n",
    "sbp = pyip.inputInt(\"請輸入收縮壓:\")\n",
    "print(sbp)\n",
    "dbp = pyip.inputInt(\"請輸入舒張壓:\")\n",
    "print(dbp)\n",
    "suggestion = \"\"\n",
    "\n",
    "if(sbp >= 130 and dbp <80):\n",
    "    suggestion = \"單純收縮期高血壓\"\n",
    "elif(sbp >= 140 or dbp >= 90):\n",
    "       suggestion = \"高血壓二期\"\n",
    "elif(sbp >= 130 or dbp >= 80):\n",
    "       suggestion = \"高血壓一期\"\n",
    "elif(sbp >= 120 and dbp < 80):\n",
    "       suggestion = \"血壓升高\"\n",
    "else:\n",
    "      suggestion = \"正常\"\n",
    "\n",
    "print(f\"血壓狀況:{suggestion}\")"
   ]
  }
 ],
 "metadata": {
  "kernelspec": {
   "display_name": "Python 3",
   "language": "python",
   "name": "python3"
  },
  "language_info": {
   "codemirror_mode": {
    "name": "ipython",
    "version": 3
   },
   "file_extension": ".py",
   "mimetype": "text/x-python",
   "name": "python",
   "nbconvert_exporter": "python",
   "pygments_lexer": "ipython3",
   "version": "3.10.13"
  }
 },
 "nbformat": 4,
 "nbformat_minor": 2
}
