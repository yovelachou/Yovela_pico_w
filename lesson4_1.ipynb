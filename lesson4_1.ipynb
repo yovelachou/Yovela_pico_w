{
 "cells": [
  {
   "cell_type": "code",
   "execution_count": 9,
   "metadata": {},
   "outputs": [
    {
     "name": "stdout",
     "output_type": "stream",
     "text": [
      "最終學生分數是:300\n"
     ]
    }
   ],
   "source": [
    "# 學生總分為300\n",
    "# 有些學生可以加5%\n",
    "# 如果加分完超過300，就以300分為準\n",
    "# 輸入超過300分，出現警告\n",
    "\n",
    "scores = int(input(\"請輸入學生分數(最高300分):\"))\n",
    "if scores <= 300:\n",
    "   is_add = input(\"學生是否符合加符合加分條件?(y,n):\")\n",
    "\n",
    "   # 巢狀判斷\n",
    "   if is_add == \"y\":\n",
    "       scores *=1.05\n",
    "       if scores > 300:\n",
    "           scores = 300\n",
    "      \n",
    "       print(f\"最終學生分數是:{scores}\")\n",
    "\n",
    "else:\n",
    "   print(\"輸入錯誤\")       \n"
   ]
  },
  {
   "cell_type": "code",
   "execution_count": 14,
   "metadata": {},
   "outputs": [
    {
     "name": "stdout",
     "output_type": "stream",
     "text": [
      "輸入格式有誤\n"
     ]
    }
   ],
   "source": [
    "try:\n",
    "   money = int(input(\"請輸入金額:\"))\n",
    "   print(money)\n",
    "except: #也可指定錯誤類型 (例:valueError)\n",
    "   print(\"輸入格式有誤\")\n"
   ]
  },
  {
   "cell_type": "code",
   "execution_count": 16,
   "metadata": {},
   "outputs": [
    {
     "name": "stdout",
     "output_type": "stream",
     "text": [
      "輸入格式有誤\n"
     ]
    }
   ],
   "source": [
    "# 學生總分為300\n",
    "# 有些學生可以加5%\n",
    "# 如果加分完超過300，就以300分為準\n",
    "# 輸入超過300分，出現警告\n",
    "\n",
    "try:\n",
    "    scores = int(input(\"請輸入學生分數(最高300分):\"))\n",
    "    if scores <= 300:\n",
    "        is_add = input(\"學生是否符合加符合加分條件?(y,n):\")\n",
    "\n",
    "         # 巢狀判斷\n",
    "        if is_add == \"y\":\n",
    "           scores *=1.05\n",
    "           if scores > 300:\n",
    "              scores = 300\n",
    "       \n",
    "        print(f\"最終學生分數是:{scores}\")\n",
    " \n",
    "    else:\n",
    "         print(\"輸入錯誤\")  \n",
    "except:\n",
    "   print(\"輸入格式有誤\")     \n",
    "\n",
    " "
   ]
  }
 ],
 "metadata": {
  "kernelspec": {
   "display_name": "Python 3",
   "language": "python",
   "name": "python3"
  },
  "language_info": {
   "codemirror_mode": {
    "name": "ipython",
    "version": 3
   },
   "file_extension": ".py",
   "mimetype": "text/x-python",
   "name": "python",
   "nbconvert_exporter": "python",
   "pygments_lexer": "ipython3",
   "version": "3.10.13"
  }
 },
 "nbformat": 4,
 "nbformat_minor": 2
}
