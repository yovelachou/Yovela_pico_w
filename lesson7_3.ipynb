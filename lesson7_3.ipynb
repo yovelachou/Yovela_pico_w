{
 "cells": [
  {
   "cell_type": "code",
   "execution_count": 4,
   "metadata": {},
   "outputs": [
    {
     "name": "stdout",
     "output_type": "stream",
     "text": [
      "請輸入半徑:12.0\n",
      "半徑=12.0,面積為452.39\n"
     ]
    }
   ],
   "source": [
    "import math\n",
    "import pyinputplus as py\n",
    "#這是會傳出值的function\n",
    "def circle_area(radius):\n",
    "    area = math.pi * radius **2\n",
    "    return area\n",
    "\n",
    "\n",
    "radius = py.inputFloat(\"請輸入半徑:\")\n",
    "print(radius)\n",
    "area = circle_area(radius)\n",
    "\n",
    "print(f\"半徑={radius},面積為{area:.2f}\")"
   ]
  }
 ],
 "metadata": {
  "kernelspec": {
   "display_name": "Python 3",
   "language": "python",
   "name": "python3"
  },
  "language_info": {
   "codemirror_mode": {
    "name": "ipython",
    "version": 3
   },
   "file_extension": ".py",
   "mimetype": "text/x-python",
   "name": "python",
   "nbconvert_exporter": "python",
   "pygments_lexer": "ipython3",
   "version": "3.10.13"
  }
 },
 "nbformat": 4,
 "nbformat_minor": 2
}
