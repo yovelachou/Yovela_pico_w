{
 "cells": [
  {
   "cell_type": "code",
   "execution_count": null,
   "metadata": {},
   "outputs": [
    {
     "name": "stdout",
     "output_type": "stream",
     "text": [
      "第1次:value = 1\n",
      "第2次:value = 3\n",
      "第3次:value = 6\n",
      "第4次:value = 10\n",
      "第5次:value = 15\n",
      "第6次:value = 21\n",
      "第7次:value = 28\n",
      "第8次:value = 36\n",
      "第9次:value = 45\n",
      "第10次:value = 55\n"
     ]
    }
   ],
   "source": [
    "value = 0\n",
    "i = 1\n",
    "while i<=10:\n",
    "    value += i\n",
    "    i+=1\n",
    "    print(f\"第{i-1}次:value = {value}\")"
   ]
  },
  {
   "cell_type": "code",
   "execution_count": 21,
   "metadata": {},
   "outputs": [
    {
     "name": "stdout",
     "output_type": "stream",
     "text": [
      "請輸入第1個月的存款:Blank values are not allowed.\n",
      "請輸入第1個月的存款:Blank values are not allowed.\n",
      "請輸入第1個月的存款:Blank values are not allowed.\n",
      "請輸入第1個月的存款:100\n",
      "請輸入第2個月的存款:30000\n",
      "恭喜!已經存夠了，共存了2個月。總存款為:$30100\n"
     ]
    }
   ],
   "source": [
    "# 小明想要存錢買一輛機車，機車每輛30000元，他將每月存的錢輸入，當存款族購買機車時，就顯示提示訊息告知\n",
    "#不知道執行的次數\n",
    "\n",
    "import pyinputplus as py\n",
    "deposit = 0\n",
    "num = 0\n",
    "while deposit < 30000:\n",
    "    num += 1\n",
    "    month_value = py.inputInt(f\"請輸入第{num}個月的存款:\")\n",
    "    print(month_value)\n",
    "    deposit += month_value\n",
    "\n",
    "\n",
    "print(f\"恭喜!已經存夠了，共存了{num}個月。總存款為:${deposit}\")"
   ]
  },
  {
   "cell_type": "code",
   "execution_count": 22,
   "metadata": {},
   "outputs": [
    {
     "name": "stdout",
     "output_type": "stream",
     "text": [
      "請輸入第1位學生成績:100\n",
      "請輸入第2位學生成績:200\n",
      "請輸入第3位學生成績:-1\n",
      "學生總分為:300\n"
     ]
    }
   ],
   "source": [
    "#小美是一位教師，請你以while迴圈方式為小美設計一個輸入成績的程式，\n",
    "#如果輸入負數表示成績輸入結束，在輸入成績結束後顯示班上總成績及平均成績。\n",
    "\n",
    "inputValue = 0\n",
    "sum = 0\n",
    "num =0\n",
    "\n",
    "while inputValue >=0:\n",
    "    num += 1\n",
    "    inputValue = py.inputInt(f\"請輸入第{num}位學生成績:\")\n",
    "    print(inputValue)\n",
    "    if inputValue >=0:\n",
    "     sum += inputValue\n",
    "\n",
    "print(f\"學生總分為:{sum}\")"
   ]
  },
  {
   "cell_type": "code",
   "execution_count": 34,
   "metadata": {},
   "outputs": [
    {
     "name": "stdout",
     "output_type": "stream",
     "text": [
      "請輸入第1位學生成績:100\n",
      "請輸入第2位學生成績:50\n",
      "請輸入第3位學生成績:90\n",
      "請輸入第4位學生成績:-1\n",
      "3位學生總分為:240,平均為:80.0\n"
     ]
    }
   ],
   "source": [
    "#小美是一位教師，請你以while迴圈方式為小美設計一個輸入成績的程式，\n",
    "#如果輸入負數表示成績輸入結束，在輸入成績結束後顯示班上總成績及平均成績。\n",
    "\n",
    "\n",
    "sum = 0\n",
    "num = 0\n",
    "avg =0\n",
    "\n",
    "while True:\n",
    "    inputValue = py.inputInt(f\"請輸入第{num+1}位學生成績:\")\n",
    "    print(inputValue)\n",
    "    if inputValue <0:\n",
    "     break\n",
    "    else:\n",
    "     num += 1\n",
    "     sum += inputValue\n",
    " \n",
    "avg = sum / num\n",
    "print(f\"{num}位學生總分為:{sum},平均為:{avg}\")"
   ]
  },
  {
   "cell_type": "code",
   "execution_count": 64,
   "metadata": {},
   "outputs": [
    {
     "name": "stdout",
     "output_type": "stream",
     "text": [
      "5的平方為:25\n",
      "不做事\n",
      "輸入錯誤，請重新輸入\n",
      "輸入錯誤，請重新輸入\n",
      "11的平方為:121\n",
      "7的平方為:49\n",
      "應用程式結束\n"
     ]
    }
   ],
   "source": [
    "#顯示:\n",
    "#奇數輸出平方\n",
    "#偶數不做任何動作\n",
    "#'q'要離開\n",
    "\n",
    "\n",
    "while True:\n",
    "    \n",
    "        value = input(\"請輸入整數，輸入【q】離開:\")\n",
    "    \n",
    "        if value =='q':\n",
    "            print(\"應用程式結束\") \n",
    "            break\n",
    "        try:\n",
    "            valueInt = int(value)\n",
    "        except ValueError as err:\n",
    "            print(f\"輸入錯誤，請重新輸入\")  \n",
    "            continue  \n",
    "        if valueInt%2 == 1:\n",
    "             print(f\"{valueInt}的平方為:{valueInt ** 2}\")\n",
    "        else:\n",
    "            print(\"不做事\")\n",
    "    \n",
    "        \n",
    "            \n"
   ]
  },
  {
   "cell_type": "code",
   "execution_count": null,
   "metadata": {},
   "outputs": [],
   "source": []
  }
 ],
 "metadata": {
  "kernelspec": {
   "display_name": "Python 3",
   "language": "python",
   "name": "python3"
  },
  "language_info": {
   "codemirror_mode": {
    "name": "ipython",
    "version": 3
   },
   "file_extension": ".py",
   "mimetype": "text/x-python",
   "name": "python",
   "nbconvert_exporter": "python",
   "pygments_lexer": "ipython3",
   "version": "3.10.13"
  }
 },
 "nbformat": 4,
 "nbformat_minor": 2
}
